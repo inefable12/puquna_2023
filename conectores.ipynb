{
  "nbformat": 4,
  "nbformat_minor": 0,
  "metadata": {
    "colab": {
      "provenance": [],
      "authorship_tag": "ABX9TyPipyc2hlD5RULRaYUDN0Ky",
      "include_colab_link": true
    },
    "kernelspec": {
      "name": "python3",
      "display_name": "Python 3"
    },
    "language_info": {
      "name": "python"
    }
  },
  "cells": [
    {
      "cell_type": "markdown",
      "metadata": {
        "id": "view-in-github",
        "colab_type": "text"
      },
      "source": [
        "<a href=\"https://colab.research.google.com/github/inefable12/puquna_2023/blob/main/conectores.ipynb\" target=\"_parent\"><img src=\"https://colab.research.google.com/assets/colab-badge.svg\" alt=\"Open In Colab\"/></a>"
      ]
    },
    {
      "cell_type": "markdown",
      "source": [
        "# Buscar conectores linguísticos en párrafos\n",
        "Jesus Alvarado-Huayhuaz"
      ],
      "metadata": {
        "id": "QsC-9mMMzQYP"
      }
    },
    {
      "cell_type": "markdown",
      "source": [
        "## Escribe aquí tu historia"
      ],
      "metadata": {
        "id": "EdjDff8JSoyJ"
      }
    },
    {
      "cell_type": "code",
      "source": [
        "parrafo = \"Había una vez una tortuga y un conejo que decidieron competir en una carrera. El conejo estaba seguro de que ganaría fácilmente, así que decidió tomar una siesta antes de la carrera. La tortuga, en cambio, siguió adelante sin detenerse y, para sorpresa del conejo, cruzó la línea de meta primero. La lección de la fábula es que la perseverancia es más importante que la velocidad\""
      ],
      "metadata": {
        "id": "fdsiWawTQU5n"
      },
      "execution_count": 1,
      "outputs": []
    },
    {
      "cell_type": "markdown",
      "source": [
        "## Conviértela en una lista de palabras (solo minúsculas)"
      ],
      "metadata": {
        "id": "efE3e3gpbQSn"
      }
    },
    {
      "cell_type": "code",
      "source": [
        "#Antes eliminamos comas y puntos\n",
        "parrafo = parrafo.replace(\",\", \"\").replace(\".\", \"\")"
      ],
      "metadata": {
        "id": "ZyOdiUt-MapZ"
      },
      "execution_count": 2,
      "outputs": []
    },
    {
      "cell_type": "code",
      "source": [
        "lista_palabras = parrafo.split()\n",
        "# Convertir todas las palabras a minúsculas\n",
        "for i in range(len(lista_palabras)):\n",
        "    lista_palabras[i] = lista_palabras[i].lower()\n",
        "print(lista_palabras)"
      ],
      "metadata": {
        "colab": {
          "base_uri": "https://localhost:8080/"
        },
        "id": "CAhcWFpJY3Tg",
        "outputId": "c2085c89-a70b-401f-bcdb-12ddb2d16ea2"
      },
      "execution_count": 3,
      "outputs": [
        {
          "output_type": "stream",
          "name": "stdout",
          "text": [
            "['había', 'una', 'vez', 'una', 'tortuga', 'y', 'un', 'conejo', 'que', 'decidieron', 'competir', 'en', 'una', 'carrera', 'el', 'conejo', 'estaba', 'seguro', 'de', 'que', 'ganaría', 'fácilmente', 'así', 'que', 'decidió', 'tomar', 'una', 'siesta', 'antes', 'de', 'la', 'carrera', 'la', 'tortuga', 'en', 'cambio', 'siguió', 'adelante', 'sin', 'detenerse', 'y', 'para', 'sorpresa', 'del', 'conejo', 'cruzó', 'la', 'línea', 'de', 'meta', 'primero', 'la', 'lección', 'de', 'la', 'fábula', 'es', 'que', 'la', 'perseverancia', 'es', 'más', 'importante', 'que', 'la', 'velocidad']\n"
          ]
        }
      ]
    },
    {
      "cell_type": "markdown",
      "source": [
        "## Busquemos algunas palabras"
      ],
      "metadata": {
        "id": "Tf3k_pA8betC"
      }
    },
    {
      "cell_type": "code",
      "source": [
        "# Si busco el conector \"entonces\"\n",
        "mi_busqueda = \"entonces\"\n",
        "if mi_busqueda in lista_palabras:\n",
        "  print(\"Palabra encontrada\")\n",
        "else:\n",
        "  print(\"Palabra no encontrada\")"
      ],
      "metadata": {
        "colab": {
          "base_uri": "https://localhost:8080/"
        },
        "id": "BNDi1626QdT1",
        "outputId": "e80a0c53-0be8-4199-c499-0eb3cd36be0d"
      },
      "execution_count": 4,
      "outputs": [
        {
          "output_type": "stream",
          "name": "stdout",
          "text": [
            "Palabra no encontrada\n"
          ]
        }
      ]
    },
    {
      "cell_type": "markdown",
      "source": [
        "## Busquemos si tiene conectores"
      ],
      "metadata": {
        "id": "BQxdezszTAlJ"
      }
    },
    {
      "cell_type": "code",
      "source": [
        "# Aquí esta la lista de conectores que buscaremos:\n",
        "conectores = [\"además\",\"entre otros\",\"al fin\",\"es esa época\",\"asumiendo que\",\"futuramente\",\"así también\",\"igualmente\",\"como se expuso anteriormente\",\"incluso\",\"de forma cercana\",\"junto a\",\"de hecho\",\"más aún\",\"de igual forma\",\"otra vez\",\"en consecuencia de lo comentado\",\"para ser preciso\",\"en el pasado\",\"por todo lo dicho\",\"en pocas palabras\",\"posteriormente\",\"en primer lugar\",\"sin embargo\",\"en principio\",\"tambien\",\"entonces\",\"tan pronto\",\"por ello\",\"con todo\",\"a pesar de\",\"pero\",\"aun asi\",\"sin embargo\",\"finalmente\",\"no obstante\",\"si bien\",\"por otra parte\",\"por el contrario\",\"en cambio\",\"por ultimo\",\"luego\",\"inmediatamente\",\"despues\",\"en el comienzo\",\"y\",\"es mas\",\"mas aun\",\"incluso\",\"hasta\",\"para colmo\",\"ante todo\",\"para comenzar\",\"primeramente\",\"en fin\",\"por ultimo\",\"en suma\",\"terminando\",\"para resumir\"]"
      ],
      "metadata": {
        "id": "d0Mu4E86UmCU"
      },
      "execution_count": 5,
      "outputs": []
    },
    {
      "cell_type": "code",
      "source": [
        "# Aquí se imprimirán los conectores que hemos usado en nuestra historia\n",
        "mis_conectores = []\n",
        "\n",
        "for palabra in conectores:\n",
        "    if palabra in lista_palabras:\n",
        "        mis_conectores.append(palabra)\n",
        "\n",
        "for palabra in conectores:\n",
        "    if palabra in parrafo:\n",
        "        mis_conectores.append(palabra)\n",
        "\n",
        "#eliminamos elementos repetidos en la lista\n",
        "mis_conectores = list(set(mis_conectores))\n",
        "print(mis_conectores)"
      ],
      "metadata": {
        "colab": {
          "base_uri": "https://localhost:8080/"
        },
        "id": "qa5EhTcETU8l",
        "outputId": "1128f249-5ddf-4f7e-84fd-bf64427274d0"
      },
      "execution_count": 6,
      "outputs": [
        {
          "output_type": "stream",
          "name": "stdout",
          "text": [
            "['en cambio', 'y']\n"
          ]
        }
      ]
    },
    {
      "cell_type": "markdown",
      "source": [
        "## Graficamos cuantas veces aparecen las palabras:"
      ],
      "metadata": {
        "id": "H0DYnCPURSK8"
      }
    },
    {
      "cell_type": "code",
      "source": [
        "import matplotlib.pyplot as plt\n",
        "import collections\n",
        "\n",
        "frecuencia_palabras = collections.Counter(lista_palabras)\n",
        "\n",
        "palabras = []\n",
        "frecuencia = []\n",
        "for palabra, contador in frecuencia_palabras.items():\n",
        "    palabras.append(palabra)\n",
        "    frecuencia.append(contador)\n",
        "\n",
        "plt.bar(palabras, frecuencia)\n",
        "plt.title('Frecuencia de palabras')\n",
        "plt.xlabel('Palabras')\n",
        "plt.xticks(rotation=90)\n",
        "plt.ylabel('Frecuencia')\n",
        "plt.show()"
      ],
      "metadata": {
        "colab": {
          "base_uri": "https://localhost:8080/",
          "height": 356
        },
        "id": "li77PzbvRRBm",
        "outputId": "0720e98c-0985-4644-9d4b-813643e1b3c2"
      },
      "execution_count": 7,
      "outputs": [
        {
          "output_type": "display_data",
          "data": {
            "text/plain": [
              "<Figure size 432x288 with 1 Axes>"
            ],
            "image/png": "[encoded data removed]"
          },
          "metadata": {
            "needs_background": "light"
          }
        }
      ]
    }
  ]
}